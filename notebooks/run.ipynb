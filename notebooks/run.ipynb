{
  "cells": [
    {
      "cell_type": "markdown",
      "id": "20326118",
      "metadata": {
        "id": "20326118"
      },
      "source": [
        "# Install"
      ]
    },
    {
      "cell_type": "markdown",
      "id": "2422f32f",
      "metadata": {
        "id": "2422f32f"
      },
      "source": [
        "## Install BenchMARL"
      ]
    },
    {
      "cell_type": "code",
      "execution_count": null,
      "id": "8b10fd32",
      "metadata": {
        "id": "8b10fd32"
      },
      "outputs": [],
      "source": [
        "#@title\n",
        "!git clone https://github.com/facebookresearch/BenchMARL"
      ]
    },
    {
      "cell_type": "code",
      "execution_count": null,
      "id": "4f32b88e",
      "metadata": {
        "id": "4f32b88e"
      },
      "outputs": [],
      "source": [
        "#@title\n",
        "%cd /content/BenchMARL\n",
        "!pip install -U torch torchvision\n",
        "!pip install -e ."
      ]
    },
    {
      "cell_type": "markdown",
      "id": "585d3a35",
      "metadata": {
        "id": "585d3a35"
      },
      "source": [
        "## Install Envs"
      ]
    },
    {
      "cell_type": "code",
      "source": [
        "#@title\n",
        "%cd /content/BenchMARL\n",
        "!pip install vmas"
      ],
      "metadata": {
        "id": "Dr_ehuk-BxPA"
      },
      "id": "Dr_ehuk-BxPA",
      "execution_count": null,
      "outputs": []
    },
    {
      "cell_type": "code",
      "source": [
        "%cd /content/BenchMARL\n",
        "!pip install dm-meltingpot"
      ],
      "metadata": {
        "id": "zDNvU_5UBx1h"
      },
      "id": "zDNvU_5UBx1h",
      "execution_count": null,
      "outputs": []
    },
    {
      "cell_type": "code",
      "source": [
        "%cd /content/BenchMARL\n",
        "!pip install benchmarl pettingzoo[atari] supersuit wandb"
      ],
      "metadata": {
        "id": "dn-fyQ1LP7sl"
      },
      "id": "dn-fyQ1LP7sl",
      "execution_count": null,
      "outputs": []
    },
    {
      "cell_type": "code",
      "execution_count": null,
      "id": "33d72783",
      "metadata": {
        "id": "33d72783"
      },
      "outputs": [],
      "source": [
        "#@title\n",
        "!apt-get update\n",
        "!apt-get install -y x11-utils python3-opengl xvfb\n",
        "!pip install pyvirtualdisplay\n",
        "import pyvirtualdisplay\n",
        "display = pyvirtualdisplay.Display(visible=False, size=(1400, 900))\n",
        "display.start()"
      ]
    },
    {
      "cell_type": "markdown",
      "id": "caa7225f",
      "metadata": {
        "id": "caa7225f"
      },
      "source": [
        "# Launch from command line"
      ]
    },
    {
      "cell_type": "markdown",
      "source": [
        "# VMAS Football"
      ],
      "metadata": {
        "id": "BE_c3MIV4Mww"
      },
      "id": "BE_c3MIV4Mww"
    },
    {
      "cell_type": "markdown",
      "source": [
        "## MAPPO"
      ],
      "metadata": {
        "id": "3gxB53PS25Rk"
      },
      "id": "3gxB53PS25Rk"
    },
    {
      "cell_type": "code",
      "source": [
        "!python benchmarl/run.py -m \\\n",
        "  algorithm=mappo \\\n",
        "  task=vmas/football \\\n",
        "  model=layers/mlp \\\n",
        "  critic_model=\\${model} \\\n",
        "  seed=0,1 \\\n",
        "  experiment.max_n_frames=245760 \\\n",
        "  experiment.train_device=cuda \\\n",
        "  experiment.sampling_device=cuda \\\n",
        "  experiment.buffer_device=cpu \\\n",
        "  experiment.render=false \\\n",
        "  experiment.on_policy_n_envs_per_worker=2 \\\n",
        "  experiment.on_policy_collected_frames_per_batch=4096 \\\n",
        "  experiment.evaluation_interval=12288 \\\n",
        "  experiment.on_policy_minibatch_size=256 \\\n",
        "  experiment.on_policy_n_minibatch_iters=4 \\\n",
        "  algorithm.entropy_coef=0.01 \\\n",
        "  experiment.lr=3e-4 \\\n",
        "  task.n_blue_agents=2 \\\n",
        "  task.n_red_agents=2 \\\n",
        "  task.ai_red_agents=false \\\n",
        "  task.dense_reward=true \\\n",
        "  task.observe_teammates=true \\\n",
        "  task.observe_adversaries=true \\\n",
        "  \"experiment.loggers=[csv]\"\n"
      ],
      "metadata": {
        "id": "JNXxCEptty26"
      },
      "id": "JNXxCEptty26",
      "execution_count": null,
      "outputs": []
    },
    {
      "cell_type": "markdown",
      "source": [
        "## QMIX"
      ],
      "metadata": {
        "id": "J35Ni0Ep2842"
      },
      "id": "J35Ni0Ep2842"
    },
    {
      "cell_type": "code",
      "source": [
        "!python benchmarl/run.py -m \\\n",
        "  algorithm=qmix \\\n",
        "  task=vmas/football \\\n",
        "  model=layers/mlp \\\n",
        "  critic_model=\\${model} \\\n",
        "  seed=0,1 \\\n",
        "  experiment.max_n_frames=245760 \\\n",
        "  experiment.train_device=cuda \\\n",
        "  experiment.sampling_device=cuda \\\n",
        "  experiment.buffer_device=cpu \\\n",
        "  experiment.render=false \\\n",
        "  experiment.off_policy_n_envs_per_worker=2 \\\n",
        "  experiment.off_policy_collected_frames_per_batch=4096 \\\n",
        "  experiment.evaluation_interval=12288 \\\n",
        "  experiment.off_policy_train_batch_size=256 \\\n",
        "  experiment.off_policy_n_optimizer_steps=4 \\\n",
        "  experiment.off_policy_init_random_frames=0 \\\n",
        "  experiment.lr=3e-4 \\\n",
        "  task.n_blue_agents=2 \\\n",
        "  task.n_red_agents=2 \\\n",
        "  task.ai_red_agents=false \\\n",
        "  task.dense_reward=true \\\n",
        "  task.observe_teammates=true \\\n",
        "  task.observe_adversaries=true \\\n",
        "  \"experiment.loggers=[csv]\"\n"
      ],
      "metadata": {
        "colab": {
          "base_uri": "https://localhost:8080/"
        },
        "id": "z52rxaL_t1-y",
        "outputId": "b6e03318-a11d-4760-d39a-d8c452e38ada"
      },
      "id": "z52rxaL_t1-y",
      "execution_count": null,
      "outputs": [
        {
          "output_type": "stream",
          "name": "stdout",
          "text": [
            "[2025-04-14 01:05:46,465][HYDRA] Launching 2 jobs locally\n",
            "[2025-04-14 01:05:46,465][HYDRA] \t#0 : algorithm=qmix task=vmas/football model=layers/mlp critic_model=$\\{model\\} seed=0 experiment.max_n_frames=245760 experiment.train_device=cuda experiment.sampling_device=cuda experiment.buffer_device=cpu experiment.render=False experiment.off_policy_n_envs_per_worker=2 experiment.off_policy_collected_frames_per_batch=4096 experiment.evaluation_interval=12288 experiment.off_policy_train_batch_size=256 experiment.off_policy_n_optimizer_steps=4 experiment.off_policy_init_random_frames=0 experiment.lr=0.0003 task.n_blue_agents=2 task.n_red_agents=2 task.ai_red_agents=False task.dense_reward=True task.observe_teammates=True task.observe_adversaries=True experiment.loggers=[csv]\n",
            "\n",
            "Algorithm: qmix, Task: vmas/football\n",
            "\n",
            "Loaded config:\n",
            "\n",
            "experiment:\n",
            "  sampling_device: cuda\n",
            "  train_device: cuda\n",
            "  buffer_device: cpu\n",
            "  share_policy_params: true\n",
            "  prefer_continuous_actions: true\n",
            "  collect_with_grad: false\n",
            "  parallel_collection: false\n",
            "  gamma: 0.99\n",
            "  lr: 0.0003\n",
            "  adam_eps: 1.0e-06\n",
            "  clip_grad_norm: true\n",
            "  clip_grad_val: 5.0\n",
            "  soft_target_update: true\n",
            "  polyak_tau: 0.005\n",
            "  hard_target_update_frequency: 5\n",
            "  exploration_eps_init: 0.8\n",
            "  exploration_eps_end: 0.01\n",
            "  exploration_anneal_frames: null\n",
            "  max_n_iters: null\n",
            "  max_n_frames: 245760\n",
            "  on_policy_collected_frames_per_batch: 6000\n",
            "  on_policy_n_envs_per_worker: 10\n",
            "  on_policy_n_minibatch_iters: 45\n",
            "  on_policy_minibatch_size: 400\n",
            "  off_policy_collected_frames_per_batch: 4096\n",
            "  off_policy_n_envs_per_worker: 2\n",
            "  off_policy_n_optimizer_steps: 4\n",
            "  off_policy_train_batch_size: 256\n",
            "  off_policy_memory_size: 1000000\n",
            "  off_policy_init_random_frames: 0\n",
            "  off_policy_use_prioritized_replay_buffer: false\n",
            "  off_policy_prb_alpha: 0.6\n",
            "  off_policy_prb_beta: 0.4\n",
            "  evaluation: true\n",
            "  render: false\n",
            "  evaluation_interval: 12288\n",
            "  evaluation_episodes: 10\n",
            "  evaluation_deterministic_actions: true\n",
            "  evaluation_static: false\n",
            "  loggers:\n",
            "  - csv\n",
            "  project_name: benchmarl\n",
            "  create_json: true\n",
            "  save_folder: null\n",
            "  restore_file: null\n",
            "  restore_map_location: null\n",
            "  checkpoint_interval: 0\n",
            "  checkpoint_at_end: false\n",
            "  keep_checkpoints_num: 3\n",
            "algorithm:\n",
            "  mixing_embed_dim: 32\n",
            "  delay_value: true\n",
            "  loss_function: l2\n",
            "task:\n",
            "  max_steps: 500\n",
            "  n_blue_agents: 2\n",
            "  n_red_agents: 2\n",
            "  ai_red_agents: false\n",
            "  physically_different: false\n",
            "  spawn_in_formation: false\n",
            "  formation_agents_per_column: 2\n",
            "  randomise_formation_indices: false\n",
            "  only_blue_formation: true\n",
            "  formation_noise: 0.2\n",
            "  n_traj_points: 0\n",
            "  ai_strength: 1.0\n",
            "  ai_decision_strength: 1.0\n",
            "  ai_precision_strength: 1.0\n",
            "  agent_size: 0.025\n",
            "  goal_size: 0.35\n",
            "  goal_depth: 0.1\n",
            "  pitch_length: 3.0\n",
            "  pitch_width: 1.5\n",
            "  ball_mass: 0.25\n",
            "  ball_size: 0.02\n",
            "  u_multiplier: 0.1\n",
            "  enable_shooting: false\n",
            "  u_rot_multiplier: 0.0003\n",
            "  u_shoot_multiplier: 0.6\n",
            "  shooting_radius: 0.08\n",
            "  shooting_angle: 1.5708\n",
            "  max_speed: 0.15\n",
            "  ball_max_speed: 0.3\n",
            "  dense_reward: true\n",
            "  pos_shaping_factor_ball_goal: 10.0\n",
            "  pos_shaping_factor_agent_ball: 0.1\n",
            "  distance_to_ball_trigger: 0.4\n",
            "  scoring_reward: 100.0\n",
            "  observe_teammates: true\n",
            "  observe_adversaries: true\n",
            "  dict_obs: false\n",
            "model:\n",
            "  name: mlp\n",
            "  num_cells:\n",
            "  - 256\n",
            "  - 256\n",
            "  layer_class: torch.nn.Linear\n",
            "  activation_class: torch.nn.Tanh\n",
            "  activation_kwargs: null\n",
            "  norm_class: null\n",
            "  norm_kwargs: null\n",
            "critic_model: ${model}\n",
            "seed: 0\n",
            "\n",
            "mean return = -0.1305636167526245:  25% 15/60 [20:10<1:02:42, 83.61s/it] "
          ]
        }
      ]
    },
    {
      "cell_type": "markdown",
      "source": [
        "## MASAC"
      ],
      "metadata": {
        "id": "K5IbTPwf3Eqg"
      },
      "id": "K5IbTPwf3Eqg"
    },
    {
      "cell_type": "code",
      "source": [
        "!python benchmarl/run.py -m \\\n",
        "  algorithm=masac \\\n",
        "  task=vmas/football \\\n",
        "  model=layers/mlp \\\n",
        "  critic_model=\\${model} \\\n",
        "  seed=0,1 \\\n",
        "  experiment.max_n_frames=245760 \\\n",
        "  experiment.train_device=cuda \\\n",
        "  experiment.sampling_device=cuda \\\n",
        "  experiment.buffer_device=cpu \\\n",
        "  experiment.render=false \\\n",
        "  experiment.off_policy_n_envs_per_worker=2 \\\n",
        "  experiment.off_policy_collected_frames_per_batch=4096 \\\n",
        "  experiment.evaluation_interval=12288 \\\n",
        "  experiment.off_policy_train_batch_size=256 \\\n",
        "  experiment.off_policy_n_optimizer_steps=4 \\\n",
        "  experiment.off_policy_init_random_frames=0 \\\n",
        "  experiment.lr=3e-4 \\\n",
        "  task.n_blue_agents=2 \\\n",
        "  task.n_red_agents=2 \\\n",
        "  task.ai_red_agents=false \\\n",
        "  task.dense_reward=true \\\n",
        "  task.observe_teammates=true \\\n",
        "  task.observe_adversaries=true \\\n",
        "  \"experiment.loggers=[csv]\"\n",
        "\n"
      ],
      "metadata": {
        "id": "rFecztda1mEq"
      },
      "id": "rFecztda1mEq",
      "execution_count": null,
      "outputs": []
    },
    {
      "cell_type": "markdown",
      "source": [
        "# PettingZoo - Simple Tag"
      ],
      "metadata": {
        "id": "2fHTj709HEHm"
      },
      "id": "2fHTj709HEHm"
    },
    {
      "cell_type": "markdown",
      "source": [
        "# MAPPO"
      ],
      "metadata": {
        "id": "JJU1xe60HOvy"
      },
      "id": "JJU1xe60HOvy"
    },
    {
      "cell_type": "code",
      "source": [
        "!python benchmarl/run.py -m \\\n",
        "  algorithm=mappo \\\n",
        "  task=pettingzoo/simple_tag \\\n",
        "  model=layers/mlp \\\n",
        "  critic_model=\\${model} \\\n",
        "  seed=0,1 \\\n",
        "  experiment.max_n_frames=245760 \\\n",
        "  experiment.train_device=cuda \\\n",
        "  experiment.sampling_device=cuda \\\n",
        "  experiment.buffer_device=cpu \\\n",
        "  experiment.render=false \\\n",
        "  experiment.on_policy_n_envs_per_worker=1 \\\n",
        "  experiment.on_policy_collected_frames_per_batch=4096 \\\n",
        "  experiment.on_policy_minibatch_size=256 \\\n",
        "  experiment.on_policy_n_minibatch_iters=4 \\\n",
        "  experiment.evaluation_interval=12288 \\\n",
        "  algorithm.entropy_coef=0.01 \\\n",
        "  experiment.lr=3e-4 \\\n",
        "  \"experiment.loggers=[csv]\""
      ],
      "metadata": {
        "id": "k_IgRvx3HNsb"
      },
      "id": "k_IgRvx3HNsb",
      "execution_count": null,
      "outputs": []
    },
    {
      "cell_type": "markdown",
      "source": [
        "## QMIX"
      ],
      "metadata": {
        "id": "pTdUTQe2HOID"
      },
      "id": "pTdUTQe2HOID"
    },
    {
      "cell_type": "code",
      "source": [
        "!python benchmarl/run.py -m \\\n",
        "  algorithm=qmix \\\n",
        "  task=pettingzoo/simple_tag \\\n",
        "  model=layers/mlp \\\n",
        "  critic_model=\\${model} \\\n",
        "  seed=0,1 \\\n",
        "  experiment.max_n_frames=245760 \\\n",
        "  experiment.train_device=cuda \\\n",
        "  experiment.sampling_device=cuda \\\n",
        "  experiment.buffer_device=cpu \\\n",
        "  experiment.render=false \\\n",
        "  experiment.off_policy_n_envs_per_worker=2 \\\n",
        "  experiment.off_policy_collected_frames_per_batch=4096 \\\n",
        "  experiment.off_policy_train_batch_size=256 \\\n",
        "  experiment.off_policy_n_optimizer_steps=4 \\\n",
        "  experiment.off_policy_init_random_frames=0 \\\n",
        "  experiment.evaluation_interval=12288 \\\n",
        "  experiment.lr=3e-4 \\\n",
        "  \"experiment.loggers=[csv]\""
      ],
      "metadata": {
        "id": "YDUoz-5QHNNH"
      },
      "id": "YDUoz-5QHNNH",
      "execution_count": null,
      "outputs": []
    },
    {
      "cell_type": "markdown",
      "source": [
        "# MASAC"
      ],
      "metadata": {
        "id": "MXMNyE9hHJSD"
      },
      "id": "MXMNyE9hHJSD"
    },
    {
      "cell_type": "code",
      "source": [
        "!python benchmarl/run.py -m \\\n",
        "  algorithm=masac \\\n",
        "  task=pettingzoo/simple_tag \\\n",
        "  model=layers/mlp \\\n",
        "  critic_model=\\${model} \\\n",
        "  seed=0,1 \\\n",
        "  experiment.max_n_frames=245760 \\\n",
        "  experiment.train_device=cuda \\\n",
        "  experiment.sampling_device=cuda \\\n",
        "  experiment.buffer_device=cpu \\\n",
        "  experiment.render=false \\\n",
        "  experiment.off_policy_n_envs_per_worker=2 \\\n",
        "  experiment.off_policy_collected_frames_per_batch=4096 \\\n",
        "  experiment.off_policy_train_batch_size=256 \\\n",
        "  experiment.off_policy_n_optimizer_steps=4 \\\n",
        "  experiment.off_policy_init_random_frames=0 \\\n",
        "  experiment.evaluation_interval=12288 \\\n",
        "  experiment.lr=3e-4 \\\n",
        "  \"experiment.loggers=[csv]\"\n"
      ],
      "metadata": {
        "id": "3ro6N-6nG_nQ"
      },
      "id": "3ro6N-6nG_nQ",
      "execution_count": null,
      "outputs": []
    }
  ],
  "metadata": {
    "kernelspec": {
      "display_name": "Python 3",
      "name": "python3"
    },
    "language_info": {
      "codemirror_mode": {
        "name": "ipython",
        "version": 3
      },
      "file_extension": ".py",
      "mimetype": "text/x-python",
      "name": "python",
      "nbconvert_exporter": "python",
      "pygments_lexer": "ipython3",
      "version": "3.9.16"
    },
    "colab": {
      "provenance": [],
      "gpuType": "T4"
    },
    "accelerator": "GPU"
  },
  "nbformat": 4,
  "nbformat_minor": 5
}